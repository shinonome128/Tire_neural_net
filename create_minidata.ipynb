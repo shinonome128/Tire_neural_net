{
 "cells": [
  {
   "cell_type": "code",
   "execution_count": 29,
   "metadata": {},
   "outputs": [],
   "source": [
    "import glob\n",
    "import os"
   ]
  },
  {
   "cell_type": "code",
   "execution_count": 35,
   "metadata": {},
   "outputs": [],
   "source": [
    "source_dir = \"./DATA/TEST\"\n",
    "num = 1\n",
    "target_dir = source_dir + \"_mini\"\n",
    "\n",
    "os.system(\"rm -fdr \" + target_dir)\n",
    "os.system(\"cp -r \" + source_dir + \" \" + target_dir)\n",
    "for i in glob.glob(target_dir + \"/*\"):\n",
    "    n = 0\n",
    "    # print(i)\n",
    "    for j in glob.glob(i + \"/*\"):\n",
    "        # print(j)\n",
    "        n += 1\n",
    "        if n > num: os.remove(j)\n",
    "        else: continue          "
   ]
  },
  {
   "cell_type": "code",
   "execution_count": null,
   "metadata": {},
   "outputs": [],
   "source": []
  }
 ],
 "metadata": {
  "kernelspec": {
   "display_name": "Python 3",
   "language": "python",
   "name": "python3"
  },
  "language_info": {
   "codemirror_mode": {
    "name": "ipython",
    "version": 3
   },
   "file_extension": ".py",
   "mimetype": "text/x-python",
   "name": "python",
   "nbconvert_exporter": "python",
   "pygments_lexer": "ipython3",
   "version": "3.6.0"
  }
 },
 "nbformat": 4,
 "nbformat_minor": 2
}
