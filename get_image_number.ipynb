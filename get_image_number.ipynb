{
 "cells": [
  {
   "cell_type": "code",
   "execution_count": 1,
   "metadata": {},
   "outputs": [],
   "source": [
    "import glob"
   ]
  },
  {
   "cell_type": "code",
   "execution_count": 3,
   "metadata": {},
   "outputs": [
    {
     "data": {
      "text/plain": [
       "[['02838_Human_leg_resized', 429],\n",
       " ['00486_Bicycle_wheel_resized', 429],\n",
       " ['FRONTTATEFITCENTER', 6000],\n",
       " ['NANAMETATEFIT', 6000],\n",
       " ['WINTERFRONTTATEFAR', 6000],\n",
       " ['00479_Boy_resized', 429],\n",
       " ['WINTERFRONTYOKOFIT', 6000],\n",
       " ['01318_Desk_resized', 429],\n",
       " ['WINTERFRONTTATENEAR', 6000],\n",
       " ['02648_Fruit_resized', 429],\n",
       " ['06052_Human_arm_resized', 429],\n",
       " ['FRONTTATENEAR', 6000],\n",
       " ['WINTERFRONTTATEFITTOP', 6000],\n",
       " ['00109_Toy_resized', 429],\n",
       " ['WINTERNANAMETATEFIT', 6000],\n",
       " ['00160_Human_eye_resized', 429],\n",
       " ['03890_Motorcycle_resized', 429],\n",
       " ['02227_Human_body_resized', 429],\n",
       " ['FRONTYOKOFIT', 6000],\n",
       " ['FRONTTATEFAR', 6000],\n",
       " ['FRONTTATEFITTOP', 6000],\n",
       " ['00661_Person_resized', 429],\n",
       " ['01248_Snack_resized', 429],\n",
       " ['FRONTTATEFITLEFT', 6000],\n",
       " ['WINTERFRONTTATEFITBOTTOM', 6000],\n",
       " ['00195_Human_beard_resized', 429],\n",
       " ['00318_Sunglasses_resized', 429],\n",
       " ['WINTERFRONTTATEFITLEFT', 6000],\n",
       " ['02921_Human_ear_resized', 429],\n",
       " ['WINTERFRONTNANAMEFIT', 6000],\n",
       " ['FRONTTATEJUSTCENTER', 6000],\n",
       " ['00784_Vehicle_registration_plate_resized', 429],\n",
       " ['06008_Camera_resized', 429],\n",
       " ['06805_Human_nose_resized', 429],\n",
       " ['WINTERFRONTTATEJUSTCENTER', 6000],\n",
       " ['WINTERFRONTTATEFITRIGHT', 6000],\n",
       " ['03968_Man_resized', 429],\n",
       " ['02807_Street_light_resized', 429],\n",
       " ['02943_Woman_resized', 429],\n",
       " ['FRONTYOKOFAR', 6000],\n",
       " ['01558_Box_resized', 429],\n",
       " ['FRONTTATEFITRIGHT', 6000],\n",
       " ['00915_Traffic_sign_resized', 429],\n",
       " ['FRONTTATEFITBOTTOM', 6000],\n",
       " ['02773_Jacket_resized', 429],\n",
       " ['03276_Human_hair_resized', 429],\n",
       " ['FRONTNANAMEFIT', 6000],\n",
       " ['03255_Bicycle_helmet_resized', 429],\n",
       " ['WINTERFRONTTATEFITCENTER', 6000],\n",
       " ['WINTERFRONTYOKOFAR', 6000],\n",
       " ['00837_Billboard_resized', 429],\n",
       " ['06049_Human_face_resized', 429],\n",
       " ['total', 156012]]"
      ]
     },
     "execution_count": 3,
     "metadata": {},
     "output_type": "execute_result"
    }
   ],
   "source": [
    "dir = \"./DATA/TRAIN_large\"\n",
    "\n",
    "l1 = []\n",
    "for i in glob.glob(dir + \"/*\"):\n",
    "    l1.append(i)\n",
    "    pass\n",
    "#print(list)\n",
    "l2 = []\n",
    "for i, j in enumerate(l1):\n",
    "    l3 = []\n",
    "    for k in glob.glob(j + '/*'):\n",
    "        l3.append(k)\n",
    "        pass\n",
    "    l2.append(l3)\n",
    "    pass\n",
    "total = 0\n",
    "num = []\n",
    "for i in l2:\n",
    "    total += len(i)\n",
    "    # print(len(i))\n",
    "    try:\n",
    "        line = i[0].replace(dir + '/',  '')\n",
    "        # print(line[:line.find('/')])\n",
    "        num.append([\n",
    "            line[:line.find('/')], len(i)\n",
    "        ])\n",
    "    except:\n",
    "        pass\n",
    "num.append([\n",
    "    'total',total\n",
    "])\n",
    "\n",
    "num"
   ]
  },
  {
   "cell_type": "code",
   "execution_count": null,
   "metadata": {},
   "outputs": [],
   "source": []
  },
  {
   "cell_type": "code",
   "execution_count": null,
   "metadata": {},
   "outputs": [],
   "source": []
  }
 ],
 "metadata": {
  "kernelspec": {
   "display_name": "Python 3",
   "language": "python",
   "name": "python3"
  },
  "language_info": {
   "codemirror_mode": {
    "name": "ipython",
    "version": 3
   },
   "file_extension": ".py",
   "mimetype": "text/x-python",
   "name": "python",
   "nbconvert_exporter": "python",
   "pygments_lexer": "ipython3",
   "version": "3.6.0"
  }
 },
 "nbformat": 4,
 "nbformat_minor": 2
}
