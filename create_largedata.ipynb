{
 "cells": [
  {
   "cell_type": "code",
   "execution_count": 1,
   "metadata": {},
   "outputs": [],
   "source": [
    "import glob\n",
    "import os"
   ]
  },
  {
   "cell_type": "code",
   "execution_count": 2,
   "metadata": {},
   "outputs": [],
   "source": [
    "def get_imgnum(dir):\n",
    "    l1 = []\n",
    "    for i in glob.glob(dir + \"/*\"):\n",
    "        l1.append(i)\n",
    "        pass\n",
    "    #print(list)\n",
    "    l2 = []\n",
    "    for i, j in enumerate(l1):\n",
    "        l3 = []\n",
    "        for k in glob.glob(j + '/*'):\n",
    "            l3.append(k)\n",
    "            pass\n",
    "        l2.append(l3)\n",
    "        pass\n",
    "    total = 0\n",
    "    num = []\n",
    "    for i in l2:\n",
    "        total += len(i)\n",
    "        # print(len(i))\n",
    "        try:\n",
    "            line = i[0].replace(dir + '/',  '')\n",
    "            # print(line[:line.find('/')])\n",
    "            num.append([\n",
    "                line[:line.find('/')], len(i)\n",
    "            ])\n",
    "        except:\n",
    "            pass\n",
    "    num.append([\n",
    "        'total',total\n",
    "    ])\n",
    "    return num"
   ]
  },
  {
   "cell_type": "code",
   "execution_count": 6,
   "metadata": {},
   "outputs": [],
   "source": [
    "source_dir = \"./DATA/TRAIN\"\n",
    "num = get_imgnum(source_dir)\n",
    "target_dir = source_dir + \"_large\"\n",
    "os.system(\"rm -fdr \" + target_dir)\n",
    "os.system(\"mkdir \" + target_dir)\n",
    "\n",
    "for i in num:\n",
    "    dir = i[0]\n",
    "    if  dir.find('0') == 0:\n",
    "        os.system(\"cp -r \" + source_dir + \"/\" + dir + \" \" + target_dir + \"/\")\n",
    "\n",
    "\n",
    "        continue\n",
    "    elif dir.find('total') == 0:\n",
    "        continue\n",
    "    else:\n",
    "        # print(dir)\n",
    "        os.system(\"mkdir \" + target_dir + \"/\" + dir )\n",
    "        os.system(\"python ./py-image-dataset-generator/augmentation.py\"\n",
    "                + \" -folder \" + source_dir + \"/\" + dir\n",
    "                + \" -limit \" + \"6000\"\n",
    "                + \" -dest \" + target_dir + \"/\" + dir\n",
    "                 )\n"
   ]
  },
  {
   "cell_type": "code",
   "execution_count": null,
   "metadata": {},
   "outputs": [],
   "source": []
  },
  {
   "cell_type": "code",
   "execution_count": null,
   "metadata": {},
   "outputs": [],
   "source": []
  }
 ],
 "metadata": {
  "kernelspec": {
   "display_name": "Python 3",
   "language": "python",
   "name": "python3"
  },
  "language_info": {
   "codemirror_mode": {
    "name": "ipython",
    "version": 3
   },
   "file_extension": ".py",
   "mimetype": "text/x-python",
   "name": "python",
   "nbconvert_exporter": "python",
   "pygments_lexer": "ipython3",
   "version": "3.6.0"
  }
 },
 "nbformat": 4,
 "nbformat_minor": 2
}
